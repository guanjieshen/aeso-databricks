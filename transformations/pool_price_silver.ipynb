{
 "cells": [
  {
   "cell_type": "code",
   "execution_count": 0,
   "metadata": {
    "application/vnd.databricks.v1+cell": {
     "cellMetadata": {
      "byteLimit": 2048000,
      "rowLimit": 10000
     },
     "inputWidgets": {},
     "nuid": "b2e19998-07ea-48a5-80e8-b926efe690ef",
     "showTitle": false,
     "tableResultSettingsMap": {},
     "title": ""
    }
   },
   "outputs": [],
   "source": [
    "import dlt\n",
    "\n",
    "# Define a Delta Live Table (DLT) named \"aeso_pool_price_silver\"\n",
    "@dlt.table(name=\"aeso_pool_price_silver\")\n",
    "# Expectation: pool_price should not be NaN\n",
    "@dlt.expect(\"pool_price_not_nan\", \"pool_price != 'NaN'\")\n",
    "# Expectation: forecast_pool_price should not be NaN, fail if this expectation is not met\n",
    "@dlt.expect_or_fail(\"forecast_pool_price_not_nan\", \"forecast_pool_price != 'NaN'\")\n",
    "def aeso_pool_price_silver():\n",
    "    # Read data from the \"aeso_pool_price_bronze\" table\n",
    "    df = spark.read.table(\"aeso_pool_price_bronze\")\n",
    "    # Filter out ingest_timestamp and only select rows where __end_at is not null\n",
    "    return df.filter(df[\"__end_at\"].isNotNull()).select(\n",
    "        \"begin_datetime_utc\",\n",
    "        \"begin_datetime_mpt\",\n",
    "        \"pool_price\",\n",
    "        \"forecast_pool_price\",\n",
    "        \"rolling_30day_avg\"\n",
    "    )"
   ]
  }
 ],
 "metadata": {
  "application/vnd.databricks.v1+notebook": {
   "computePreferences": null,
   "dashboards": [],
   "environmentMetadata": {
    "base_environment": "",
    "environment_version": "2"
   },
   "language": "python",
   "notebookMetadata": {
    "pythonIndentUnit": 2
   },
   "notebookName": "pool_price_silver",
   "widgets": {}
  },
  "language_info": {
   "name": "python"
  }
 },
 "nbformat": 4,
 "nbformat_minor": 0
}
