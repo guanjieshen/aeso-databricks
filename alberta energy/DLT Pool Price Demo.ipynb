{
 "cells": [
  {
   "cell_type": "code",
   "execution_count": 0,
   "metadata": {
    "application/vnd.databricks.v1+cell": {
     "cellMetadata": {
      "byteLimit": 2048000,
      "rowLimit": 10000
     },
     "inputWidgets": {},
     "nuid": "a54125a9-3bad-4ee4-9b00-e8d9ef1ea698",
     "showTitle": false,
     "tableResultSettingsMap": {},
     "title": ""
    }
   },
   "outputs": [],
   "source": [
    "from aeso_api import aeso\n",
    "import pandas as pd\n",
    "from datetime import datetime, timedelta\n",
    "import pytz\n",
    "from pyspark.sql.functions import col, expr, current_timestamp\n",
    "import dlt\n",
    "\n",
    "aeso_api_key = 'be5f320c48914d229551e20990daed49'\n",
    "aeso_instance = aeso(aeso_api_key)\n",
    "\n",
    "\n",
    "@dlt.view\n",
    "def aeso_pool_price_bronze(name = \"aeso_pool_price_bronze\"):\n",
    "    # Get Current Date, and Current Date + 1\n",
    "    utc_time = pytz.utc.localize(datetime.utcnow())\n",
    "    calgary_time = utc_time.astimezone(pytz.timezone(\"America/Edmonton\"))\n",
    "\n",
    "    current_date = calgary_time.strftime(\"%Y-%m-%d\")\n",
    "    tomorrow_date = (calgary_time + timedelta(days=1)).strftime(\"%Y-%m-%d\")\n",
    "    print(f\"Current Date: {current_date}\")\n",
    "    print(f\"Tomorrow Date: {tomorrow_date}\")\n",
    "    resp = aeso_instance.get_pool_price_report(\n",
    "        start_date=current_date, end_date=tomorrow_date\n",
    "    )\n",
    "    pdf = pd.DataFrame(resp)\n",
    "    df = spark.createDataFrame(pdf)\n",
    "    df = df\n",
    "\n",
    "    return df.withColumn(\"ingest_timestamp\", current_timestamp())\n",
    "\n"
   ]
  },
  {
   "cell_type": "code",
   "execution_count": 0,
   "metadata": {
    "application/vnd.databricks.v1+cell": {
     "cellMetadata": {},
     "inputWidgets": {},
     "nuid": "1e88a22a-3069-4341-9a4d-51140522b026",
     "showTitle": false,
     "tableResultSettingsMap": {},
     "title": ""
    }
   },
   "outputs": [],
   "source": []
  }
 ],
 "metadata": {
  "application/vnd.databricks.v1+notebook": {
   "computePreferences": null,
   "dashboards": [],
   "environmentMetadata": {
    "base_environment": "",
    "environment_version": "2"
   },
   "language": "python",
   "notebookMetadata": {
    "pythonIndentUnit": 2
   },
   "notebookName": "DLT Pool Price Demo",
   "widgets": {}
  },
  "language_info": {
   "name": "python"
  }
 },
 "nbformat": 4,
 "nbformat_minor": 0
}
